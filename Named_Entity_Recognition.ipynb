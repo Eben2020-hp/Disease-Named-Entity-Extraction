{
  "nbformat": 4,
  "nbformat_minor": 0,
  "metadata": {
    "interpreter": {
      "hash": "a6c8cccf23fc189a51b8b2ae4ca3b98de763e12cce4f9033fe8d82721c91cecc"
    },
    "kernelspec": {
      "display_name": "Python 3.8.10 64-bit ('base': conda)",
      "name": "python3"
    },
    "language_info": {
      "codemirror_mode": {
        "name": "ipython",
        "version": 3
      },
      "file_extension": ".py",
      "mimetype": "text/x-python",
      "name": "python",
      "nbconvert_exporter": "python",
      "pygments_lexer": "ipython3",
      "version": "3.8.10"
    },
    "orig_nbformat": 4,
    "colab": {
      "name": "Named_Entity_Recognition.ipynb",
      "provenance": [],
      "collapsed_sections": [],
      "include_colab_link": true
    },
    "accelerator": "GPU"
  },
  "cells": [
    {
      "cell_type": "markdown",
      "metadata": {
        "id": "view-in-github",
        "colab_type": "text"
      },
      "source": [
        "<a href=\"https://colab.research.google.com/github/Eben2020-hp/Disease-Named-Entity-Extraction/blob/main/Named_Entity_Recognition.ipynb\" target=\"_parent\"><img src=\"https://colab.research.google.com/assets/colab-badge.svg\" alt=\"Open In Colab\"/></a>"
      ]
    },
    {
      "cell_type": "code",
      "metadata": {
        "colab": {
          "base_uri": "https://localhost:8080/"
        },
        "id": "b7jMpWc2lOC8",
        "outputId": "f14f13c7-b4c9-4764-9ec6-004b69fe3227"
      },
      "source": [
        "from google.colab import drive\n",
        "drive.mount('/content/drive')"
      ],
      "execution_count": null,
      "outputs": [
        {
          "output_type": "stream",
          "name": "stdout",
          "text": [
            "Drive already mounted at /content/drive; to attempt to forcibly remount, call drive.mount(\"/content/drive\", force_remount=True).\n"
          ]
        }
      ]
    },
    {
      "cell_type": "markdown",
      "metadata": {
        "id": "h6t4fA0LXzLI"
      },
      "source": [
        "<h1 align= 'center'> Disease Named Entity Extraction </h1>\n",
        "<h2 align= 'center'> In Clinical Documents Using SpaCy </h2>\n"
      ]
    },
    {
      "cell_type": "markdown",
      "metadata": {
        "id": "3PZewy28XzLU"
      },
      "source": [
        "## **Introduction**\n",
        "\n",
        "<p>\n",
        "Named Entity Extraction (NER) is a sub-task of Information Extraction, which deals with finding and classifying named entities (a real-world object, such as a person, location, organization, product, etc., that can be denoted with a proper name) that are mentioned in an unstructured text into pre-defined categories such as person names, organizations, medical codes, etc. \n",
        "</p>\n",
        "\n",
        "<img src=\"https://miro.medium.com/max/1400/1*0BuSAIQOLNQGVWJIxZhFuA.png\" width= 1250 height= 450>\n",
        "\n",
        "### **Named Entity Recognition Packages**\n",
        "\n",
        "<p>\n",
        "NER can be implemented with either statistical or rule-based methods, both of which require a large amount of labeled training data and are typically trained in a fully or semi-supervised manner. Statistical approaches to NER include Hidden Markov Models, Maximum Entropy, and Conditional Random Fields, as well as deep learning approaches with Recurrent Neural Networks, such as Seq2Seq. All of these processes involve sentence inputs and annotated sentence outputs. Many of these processes also involve additional feature engineering, providing as input summary statistics of the sentences.\n",
        "</p>\n",
        "\n",
        "### **Named Entity Recognition Evaluation Metrics**\n",
        "\n",
        "<p>\n",
        "NER is most commonly evaluated with Precision, Recall, and F1-score. F1-score can either be relaxed or strict, with the latter requiring the character offsets to match exactly.\n",
        "</p>\n",
        "\n",
        "### **Named Entity Recognition with SpaCy**\n",
        "\n",
        "<p>\n",
        "SpaCy is an open-source python library for NLP written in Python and Cython. It offers pre-trained models for multi-language NER, as well as allowing developers to train and deploy custom NER models on domain specific corpuses. SpaCy models are designed to be production-ready.\n",
        "</p>\n",
        "\n",
        "**_SpaCy's pretrained models are trained on the OntoNotes 5 corpus, and support the identification of the following entities:_**\n",
        "\n",
        "<table>\n",
        "<thead>\n",
        "<tr><th>TYPE</th><th>DESCRIPTION</th></tr>\n",
        "</thead>\n",
        "<tbody>\n",
        "<tr><td>PERSON</td><td>People, including fictional</td></tr>\n",
        "<tr><td>NORP</td><td>Nationalities or religious or political groups</td></tr>\n",
        "<tr><td>FAC</td><td>Buildings, airports, highways, bridges, etc</td></tr>\n",
        "<tr><td>ORG</td><td>Companies, agencies, institutions, etc</td></tr>\n",
        "<tr><td>GPE</td><td>Countries, cities, states</td></tr>\n",
        "<tr><td>LOC</td><td>Non-GPE locations, mountain ranges, bodies of water</td></tr>\n",
        "<tr><td>PRODUCT</td><td>Objects, vehicles, foods, etc. (Not services.)</td></tr>\n",
        "<tr><td>EVENT</td><td>Named hurricanes, battles, wars, sports events, etc</td></tr>\n",
        "<tr><td>WORK_OF_ART</td><td>Titles of books, songs, etc</td></tr>\n",
        "<tr><td>LAW</td><td>Named documents made into laws</td></tr>\n",
        "<tr><td>LANGUAGE</td><td>Any named language</td></tr>\n",
        "<tr><td>DATE</td><td>Absolute or relative dates or periods</td></tr>\n",
        "<tr><td>TIME</td><td>Times smaller than a day</td></tr>\n",
        "<tr><td>PERCENT</td><td>Percentage, including ”%“</td></tr>\n",
        "<tr><td>MONEY</td><td>Monetary values, including unit</td></tr>\n",
        "<tr><td>QUANTITY</td><td>Measurements, as of weight or distance</td></tr>\n",
        "<tr><td>ORDINAL</td><td>“first”, “second”, etc</td></tr>\n",
        "<tr><td>CARDINAL</td><td>Numerals that do not fall under another type</td></tr>\n",
        "</tbody>\n",
        "</table>\n"
      ]
    },
    {
      "cell_type": "markdown",
      "metadata": {
        "id": "Jb647JevXzLa"
      },
      "source": [
        "## **Task at Hand**\n",
        "\n",
        "\n",
        "<p>\n",
        "This Jupyter notebook demonstrates Training and Serving Custom Named Entity Recognition (NER) models, which are used to identify named entities such as disease names from clinical narratives/documents in order to support clinical and translational research. NER is used in a number of business applications such as powering recommender systems, simplifying customer support, and optimizing internal search engines.\n",
        "</p>\n",
        "\n",
        "Here I will be creating a Clinical Named Entity Recognition model which can recognize the Disease Names from Clinical Text.\n",
        "\n",
        "For this I have extracted annotated clinical text from the following github repo: https://github.com/dmis-lab/biobert.\n",
        "\n",
        "- They provide annotated clinical text here: Named Entity Recognition: (17.3 MB), 8 datasets on Biomedical Named Entity Recognition (https://drive.google.com/open?id=1OletxmPYNkz2ltOr9pyT0b0iBtUWxslh).\n",
        "\n",
        "- Once we download and unzip the files we get 8 Datasets with each dataset having the following files: \n",
        "\n",
        "   - train.tsv\n",
        "   - test.tsv\n",
        "   - dev.tsv\n",
        "   - devel.tsv \n",
        "\n",
        "**In these .tsv files each word is annotated using the BIO format.**\n",
        "\n",
        "| Annotations | Entity Type |\n",
        "| --- | --- |\n",
        "| B | Begin Entity |\n",
        "| I | Inside Entity |\n",
        "| O | Outside Entity |\n",
        "\n",
        "\n",
        "***This notebook has been inpsired from :***\n",
        "- https://aihub.cloud.google.com/p/products%2F2290fc65-0041-4c87-a898-0289f59aa8ba\n",
        "- https://youtu.be/DxLcMI-EMYI"
      ]
    },
    {
      "cell_type": "markdown",
      "metadata": {
        "id": "C2OJvGmDXzLf"
      },
      "source": [
        "## **1. Import relevant Dependencies**\n",
        "\n",
        "Incase you are getting any error saying the package is not installed while running the below cell, then you can use two methods:\n",
        "- pip install ________.\n",
        "- google 'How to install ________'."
      ]
    },
    {
      "cell_type": "code",
      "metadata": {
        "id": "ky209kq3XzLh"
      },
      "source": [
        "# Python Imports\n",
        "import math, time, random, datetime, sys\n",
        "\n",
        "# Data Manipulation\n",
        "import numpy as np\n",
        "import pandas as pd\n",
        "\n",
        "# Visualization -This is where the graphs come in.\n",
        "import matplotlib.pyplot as plt\n",
        "from matplotlib.ticker import MaxNLocator\n",
        "\n",
        "# Named Entity Recognition Packages\n",
        "import spacy\n",
        "from spacy.util import minibatch, compounding\n",
        "from spacy import displacy\n",
        "from itertools import chain"
      ],
      "execution_count": null,
      "outputs": []
    },
    {
      "cell_type": "markdown",
      "metadata": {
        "id": "V5QU5XcxXzLl"
      },
      "source": [
        "#### Convert the .tsv file to the format that is accepted by SpaCy for Training. \n",
        "\n",
        "At present our .tsv files are in **BIO Format**. We will convert them to an array like structure. This array format will have Sentences and within each Sentence we will have the Entities also present.\n",
        "- *Example*: TRAIN_DATA = [(Sentence, {entities: [(start, end, label)]}, ...]\n",
        "\n",
        "The ***load_data*** function parses and transforms the input data into the required format for SpaCy."
      ]
    },
    {
      "cell_type": "code",
      "metadata": {
        "id": "GxcdUUvRXzLn"
      },
      "source": [
        "def load_data_spacy(file_path):\n",
        "    ''' \n",
        "        Converts data from:\n",
        "        label \\t word \\n label \\t word \\n \\n label \\t word\n",
        "        to: sentence, {entities : [(start, end, label), (stard, end, label)]}\n",
        "    '''\n",
        "\n",
        "    file = open(file_path, 'r')\n",
        "    training_data, entities, sentence, unique_labels = [], [], [], []\n",
        "    current_annotation = None\n",
        "    start =0\n",
        "    end = 0 # initialize counter to keep track of start and end characters\n",
        "    for line in file:\n",
        "        line = line.strip(\"\\n\").split(\"\\t\")\n",
        "        # lines with len > 1 are words\n",
        "        if len(line) > 1:\n",
        "            label = line[1]\n",
        "            if(label != 'O'):\n",
        "                label = line[1]+ \"_Disease\"     # the .txt is formatted: label \\t word, label[0:2] = label_type\n",
        "            #label_type = line[0][0] # beginning of annotations - \"B\", intermediate - \"I\"\n",
        "            word = line[0]\n",
        "            sentence.append(word)\n",
        "            start = end\n",
        "            end += (len(word) + 1)  # length of the word + trailing space\n",
        "           \n",
        "            if label == 'I_Disease' :  # if at the end of an annotation\n",
        "                entities.append(( start,end-1, label))  # append the annotation\n",
        "                              \n",
        "            if label == 'B_Disease':                         # if beginning new annotation\n",
        "                entities.append(( start,end-1, label))# start annotation at beginning of word\n",
        "\n",
        "           \n",
        "            if label != 'O' and label not in unique_labels:\n",
        "                unique_labels.append(label)\n",
        " \n",
        "        # lines with len == 1 are breaks between sentences\n",
        "        if len(line) == 1:\n",
        "            if(len(entities) > 0):\n",
        "                sentence = \" \".join(sentence)\n",
        "                training_data.append([sentence, {'entities' : entities}])\n",
        "            # reset the counters and temporary lists\n",
        "            end = 0 \n",
        "            start = 0\n",
        "            entities, sentence = [], []\n",
        "            \n",
        "    file.close()\n",
        "    return training_data, unique_labels"
      ],
      "execution_count": null,
      "outputs": []
    },
    {
      "cell_type": "markdown",
      "metadata": {
        "id": "kaa0mogwXzLq"
      },
      "source": [
        "#### Let us convert our Train, Test and Validation data to SpaCy Format."
      ]
    },
    {
      "cell_type": "code",
      "metadata": {
        "id": "4pNQ081_XzLs"
      },
      "source": [
        "TRAIN_DATA, LABELS = load_data_spacy(\"/content/drive/MyDrive/NLP Case Study/Datasets/BC5CDR-disease/train.tsv\")   ## (\"Datasets/BC5CDR-disease/train.tsv\")\n",
        "TEST_DATA, _ = load_data_spacy(\"/content/drive/MyDrive/NLP Case Study/Datasets/BC5CDR-disease/test.tsv\")\n",
        "VALID_DATA, _ = load_data_spacy(\"/content/drive/MyDrive/NLP Case Study/Datasets/BC5CDR-disease/train_dev.tsv\")"
      ],
      "execution_count": null,
      "outputs": []
    },
    {
      "cell_type": "markdown",
      "metadata": {
        "id": "nNEjsRiWXzLu"
      },
      "source": [
        "### **Data overview**\n",
        "\n",
        "Sample sentences from the training data, which contains information about Patients Medical condition."
      ]
    },
    {
      "cell_type": "code",
      "metadata": {
        "colab": {
          "base_uri": "https://localhost:8080/"
        },
        "id": "qtdL-eYCXzLw",
        "outputId": "7b6c6505-37f5-4b77-f7aa-a0bef1dc3d15"
      },
      "source": [
        "## Viewing the First 10 Sentences.\n",
        "TRAIN_DATA[0:10]"
      ],
      "execution_count": null,
      "outputs": [
        {
          "output_type": "execute_result",
          "data": {
            "text/plain": [
              "[[\"Selegiline - induced postural hypotension in Parkinson ' s disease : a longitudinal study on the effects of drug withdrawal .\",\n",
              "  {'entities': [(21, 29, 'B_Disease'),\n",
              "    (30, 41, 'I_Disease'),\n",
              "    (45, 54, 'B_Disease'),\n",
              "    (55, 56, 'I_Disease'),\n",
              "    (57, 58, 'I_Disease'),\n",
              "    (59, 66, 'I_Disease')]}],\n",
              " [\"OBJECTIVES : The United Kingdom Parkinson ' s Disease Research Group ( UKPDRG ) trial found an increased mortality in patients with Parkinson ' s disease ( PD ) randomized to receive 10 mg selegiline per day and L - dopa compared with those taking L - dopa alone .\",\n",
              "  {'entities': [(32, 41, 'B_Disease'),\n",
              "    (42, 43, 'I_Disease'),\n",
              "    (44, 45, 'I_Disease'),\n",
              "    (46, 53, 'I_Disease'),\n",
              "    (132, 141, 'B_Disease'),\n",
              "    (142, 143, 'I_Disease'),\n",
              "    (144, 145, 'I_Disease'),\n",
              "    (146, 153, 'I_Disease'),\n",
              "    (156, 158, 'B_Disease')]}],\n",
              " ['Recently , we found that therapy with selegiline and L - dopa was associated with selective systolic orthostatic hypotension which was abolished by withdrawal of selegiline .',\n",
              "  {'entities': [(92, 100, 'B_Disease'),\n",
              "    (101, 112, 'I_Disease'),\n",
              "    (113, 124, 'I_Disease')]}],\n",
              " ['The aims of this study were to confirm our previous findings in a separate cohort of patients and to determine the time course of the cardiovascular consequences of stopping selegiline in the expectation that this might shed light on the mechanisms by which the drug causes orthostatic hypotension .',\n",
              "  {'entities': [(274, 285, 'B_Disease'), (286, 297, 'I_Disease')]}],\n",
              " ['METHODS : The cardiovascular responses to standing and head - up tilt were studied repeatedly in PD patients receiving selegiline and as the drug was withdrawn .',\n",
              "  {'entities': [(97, 99, 'B_Disease')]}],\n",
              " ['RESULTS : Head - up tilt caused systolic orthostatic hypotension which was marked in six of 20 PD patients on selegiline , one of whom lost consciousness with unrecordable blood pressures .',\n",
              "  {'entities': [(32, 40, 'B_Disease'),\n",
              "    (41, 52, 'I_Disease'),\n",
              "    (53, 64, 'I_Disease'),\n",
              "    (95, 97, 'B_Disease')]}],\n",
              " ['A lesser degree of orthostatic hypotension occurred with standing .',\n",
              "  {'entities': [(19, 30, 'B_Disease'), (31, 42, 'I_Disease')]}],\n",
              " ['Orthostatic hypotension was ameliorated 4 days after withdrawal of selegiline and totally abolished 7 days after discontinuation of the drug .',\n",
              "  {'entities': [(0, 11, 'B_Disease'), (12, 23, 'I_Disease')]}],\n",
              " ['Stopping selegiline also significantly reduced the supine systolic and diastolic blood pressures consistent with a previously undescribed supine pressor action .',\n",
              "  {'entities': [(39, 46, 'B_Disease'),\n",
              "    (47, 50, 'I_Disease'),\n",
              "    (51, 57, 'I_Disease'),\n",
              "    (58, 66, 'I_Disease'),\n",
              "    (67, 70, 'I_Disease'),\n",
              "    (71, 80, 'I_Disease'),\n",
              "    (81, 86, 'I_Disease'),\n",
              "    (87, 96, 'I_Disease')]}],\n",
              " ['CONCLUSION : This study confirms our previous finding that selegiline in combination with L - dopa is associated with selective orthostatic hypotension .',\n",
              "  {'entities': [(128, 139, 'B_Disease'), (140, 151, 'I_Disease')]}]]"
            ]
          },
          "metadata": {},
          "execution_count": 5
        }
      ]
    },
    {
      "cell_type": "code",
      "metadata": {
        "colab": {
          "base_uri": "https://localhost:8080/"
        },
        "id": "dtZW9civXzL0",
        "outputId": "22fbea49-f643-4f82-b00c-338e64164d51"
      },
      "source": [
        "## Sample labeled Annotations for the Training data\n",
        "[x[1] for x in TRAIN_DATA[1:10]]"
      ],
      "execution_count": null,
      "outputs": [
        {
          "output_type": "execute_result",
          "data": {
            "text/plain": [
              "[{'entities': [(32, 41, 'B_Disease'),\n",
              "   (42, 43, 'I_Disease'),\n",
              "   (44, 45, 'I_Disease'),\n",
              "   (46, 53, 'I_Disease'),\n",
              "   (132, 141, 'B_Disease'),\n",
              "   (142, 143, 'I_Disease'),\n",
              "   (144, 145, 'I_Disease'),\n",
              "   (146, 153, 'I_Disease'),\n",
              "   (156, 158, 'B_Disease')]},\n",
              " {'entities': [(92, 100, 'B_Disease'),\n",
              "   (101, 112, 'I_Disease'),\n",
              "   (113, 124, 'I_Disease')]},\n",
              " {'entities': [(274, 285, 'B_Disease'), (286, 297, 'I_Disease')]},\n",
              " {'entities': [(97, 99, 'B_Disease')]},\n",
              " {'entities': [(32, 40, 'B_Disease'),\n",
              "   (41, 52, 'I_Disease'),\n",
              "   (53, 64, 'I_Disease'),\n",
              "   (95, 97, 'B_Disease')]},\n",
              " {'entities': [(19, 30, 'B_Disease'), (31, 42, 'I_Disease')]},\n",
              " {'entities': [(0, 11, 'B_Disease'), (12, 23, 'I_Disease')]},\n",
              " {'entities': [(39, 46, 'B_Disease'),\n",
              "   (47, 50, 'I_Disease'),\n",
              "   (51, 57, 'I_Disease'),\n",
              "   (58, 66, 'I_Disease'),\n",
              "   (67, 70, 'I_Disease'),\n",
              "   (71, 80, 'I_Disease'),\n",
              "   (81, 86, 'I_Disease'),\n",
              "   (87, 96, 'I_Disease')]},\n",
              " {'entities': [(128, 139, 'B_Disease'), (140, 151, 'I_Disease')]}]"
            ]
          },
          "metadata": {},
          "execution_count": 6
        }
      ]
    },
    {
      "cell_type": "code",
      "metadata": {
        "colab": {
          "base_uri": "https://localhost:8080/"
        },
        "id": "ajprTTLiXzL2",
        "outputId": "a2e373d2-e398-40ca-fcbb-1dd8d3001299"
      },
      "source": [
        "print(f\"TRAIN Data has {len(TRAIN_DATA)} Sentences with Entities present\")\n",
        "print(f\"TEST Data has {len(TEST_DATA)} Sentences with Entities present\")\n",
        "print(f\"VALID Data has {len(VALID_DATA)} Sentences with Entities present\")"
      ],
      "execution_count": null,
      "outputs": [
        {
          "output_type": "stream",
          "name": "stdout",
          "text": [
            "TRAIN Data has 2658 Sentences with Entities present\n",
            "TEST Data has 2842 Sentences with Entities present\n",
            "VALID Data has 5385 Sentences with Entities present\n"
          ]
        }
      ]
    },
    {
      "cell_type": "markdown",
      "metadata": {
        "id": "FzKZ4tBsXzL4"
      },
      "source": [
        "#### Here I have removed all Sentences which Don't have Entites in them. Thus we have only Sentences with Entities."
      ]
    },
    {
      "cell_type": "markdown",
      "metadata": {
        "id": "Wa2g6dtzXzL5"
      },
      "source": [
        "### Evaluation Metrics\n",
        "Model Performance is assessed on the entirety of the Test Dataset  based on the following Metrics and their Definitions.\n",
        "\n",
        "> #### TP = ***Word predicted as either I_Disease or B_Disease and present in the data(train/test/validation) as as either I_Disease or B_Disease.***\n",
        "\n",
        "> #### FP = ***Word predicted as either I_Disease or B_Disease and not present in the data (train/test/validation) as as either I_Disease or B_Disease.*** \n",
        "\n",
        "> #### FN = ***Word present in the data(train/test/validation) data as as either I_Disease or B_Disease but not predicted as as either I_Disease or B_Disease.***\n",
        "\n",
        "### ***Metrics:*** \n",
        "- **Precision** = True Positives / (True Positives + False Positives) \n",
        "- **Recall** = True Positives / (True Positives + False Negatives) \n",
        "- **F1-score** = 2*((Precision*Recall)/(Precision + Recall)) *[Harmonic Average of Precision and Recall]*"
      ]
    },
    {
      "cell_type": "code",
      "metadata": {
        "id": "7Kd9OLCjXzL6"
      },
      "source": [
        "def calc_precision(pred, true):        \n",
        "    precision = len([x for x in pred if x in true]) / (len(pred) + 1e-20) # true positives / total pred\n",
        "    return precision\n",
        "\n",
        "def calc_recall(pred, true):\n",
        "    recall = len([x for x in true if x in pred]) / (len(true) + 1e-20)    # true positives / total test\n",
        "    return recall\n",
        "\n",
        "def calc_f1(precision, recall):\n",
        "    f1 = 2 * ((precision * recall) / (precision + recall + 1e-20))\n",
        "    return f1"
      ],
      "execution_count": null,
      "outputs": []
    },
    {
      "cell_type": "markdown",
      "metadata": {
        "id": "rNayGaWCXzL7"
      },
      "source": [
        "#### Let us define a method to evaluate our Named Entity Recognition Model."
      ]
    },
    {
      "cell_type": "code",
      "metadata": {
        "id": "n6X4HyJFXzL8"
      },
      "source": [
        "# run the predictions on each sentence in the evaluation  dataset, and return the metrics\n",
        "def evaluate(ner, data ):\n",
        "    preds = [ner(x[0]) for x in data]\n",
        "\n",
        "    precisions, recalls, f1s = [], [], []\n",
        "\n",
        "    # iterate over predictions and test data and calculate precision, recall, and F1-score\n",
        "    for pred, true in zip(preds, data):\n",
        "        true = [x[2] for x in list(chain.from_iterable(true[1].values()))] # x[2] = annotation, true[1] = (start, end, annot)\n",
        "        pred = [i.label_ for i in pred.ents] # i.label_ = annotation label, pred.ents = list of annotations\n",
        "        precision = calc_precision(true, pred)\n",
        "        precisions.append(precision)\n",
        "        recall = calc_recall(true, pred)\n",
        "        recalls.append(recall)\n",
        "        f1s.append(calc_f1(precision, recall))\n",
        "\n",
        "    #print(\"Precision: {} \\nRecall: {} \\nF1-score: {}\".format(np.around(np.mean(precisions), 3),np.around(np.mean(recalls), 3),\n",
        "    #                                                         np.around(np.mean(f1s), 3)))\n",
        "    return {\"textcat_p\": np.mean(precisions), \"textcat_r\": np.mean(recalls), \"textcat_f\": np.mean(f1s)}"
      ],
      "execution_count": null,
      "outputs": []
    },
    {
      "cell_type": "markdown",
      "metadata": {
        "id": "KsJeYUvZXzL-"
      },
      "source": [
        "Now let us train a custom named entity recognition model in spaCy for detecting Disease entities We use an existing model \"en_core_web_md\"( English medium sized model). This is a CNN model. This model by deafult has POS tagger, Dependency parser and Named entity recognition functionalities We only re-train the named entity recognition part of the model.\n",
        "\n",
        "Dropout is a regularization technique for reducing overfitting in neural networks by preventing complex co-adaptations on training data. ... The term dropout refers to randomly \"dropping out\", or omitting, units (both hidden and visible) during the training process of a neural network. In our case if dropout = 0.5 there is a 50% dropping out otmitting units during training process of our model"
      ]
    },
    {
      "cell_type": "code",
      "metadata": {
        "id": "BNNeCr9GXzL_"
      },
      "source": [
        "def train_spacy(train_data, labels, iterations, dropout = 0.5, display_freq = 1):\n",
        "    ''' Train a spacy NER model, which can be queried against with test data\n",
        "   \n",
        "    train_data : training data in the format of (sentence, {entities: [(start, end, label)]})\n",
        "    labels : a list of unique annotations\n",
        "    iterations : number of training iterations\n",
        "    dropout : dropout proportion for training\n",
        "    display_freq : number of epochs between logging losses to console\n",
        "    '''\n",
        "    train_f1scores=[]\n",
        "    valid_f1scores=[]\n",
        "    test_f1scores=[]\n",
        "\n",
        "    nlp = spacy.load(\"en_core_web_md\")\n",
        "    #nlp = spacy.blank('en')\n",
        "\n",
        "    if 'ner' not in nlp.pipe_names:\n",
        "        ner = nlp.create_pipe('ner')\n",
        "        nlp.add_pipe(ner)\n",
        "    else:\n",
        "        ner = nlp.get_pipe(\"ner\")\n",
        "   \n",
        "    # Add Entity Labels to the NER Pipeline\n",
        "    for i in labels:\n",
        "        ner.add_label(i)\n",
        "\n",
        "    # Disable other Pipelines in SpaCy to only Train NER\n",
        "    other_pipes = [pipe for pipe in nlp.pipe_names if pipe != 'ner']\n",
        "    with nlp.disable_pipes(*other_pipes):\n",
        "\n",
        "        optimizer = nlp.begin_training()\n",
        "        for itr in range(iterations):\n",
        "\n",
        "            random.shuffle(train_data) # shuffle the Training data before each iteration\n",
        "            losses = {}\n",
        "            batches = minibatch(train_data, size = compounding(16.0, 64.0, 1.5))\n",
        "\n",
        "            for batch in batches:\n",
        "                texts, annotations = zip(*batch)\n",
        "                nlp.update(          \n",
        "                    texts,\n",
        "                    annotations,\n",
        "                    drop = dropout,  \n",
        "                    sgd = optimizer,\n",
        "                    losses = losses)\n",
        "\n",
        "            scores = evaluate(nlp,TRAIN_DATA)\n",
        "            train_f1scores.append(scores[\"textcat_f\"])\n",
        "            print('=======================================')\n",
        "            print('Interation = '+str(itr))\n",
        "            print('Losses = '+str(losses))\n",
        "            \n",
        "            print('===============TRAIN DATA========================')\n",
        "            print('F1-score = '+str(scores[\"textcat_f\"]))\n",
        "            print('Precision = '+str(scores[\"textcat_p\"]))\n",
        "            print('Recall = '+str(scores[\"textcat_r\"]))\n",
        "\n",
        "            scores = evaluate(nlp,VALID_DATA)\n",
        "            valid_f1scores.append(scores[\"textcat_f\"])\n",
        "            print('===============VALID DATA========================')\n",
        "            print('F1-score = '+str(scores[\"textcat_f\"]))\n",
        "            print('Precision = '+str(scores[\"textcat_p\"]))\n",
        "            print('Recall = '+str(scores[\"textcat_r\"]))\n",
        "\n",
        "            scores = evaluate(nlp,TEST_DATA)\n",
        "            test_f1scores.append(scores[\"textcat_f\"])\n",
        "            print('===============TEST DATA========================')\n",
        "            print('F1-score = '+str(scores[\"textcat_f\"]))\n",
        "            print('Precision = '+str(scores[\"textcat_p\"]))\n",
        "            print('Recall = '+str(scores[\"textcat_r\"]))\n",
        "            print('=======================================')\n",
        "            print()\n",
        "            \n",
        "    return nlp, train_f1scores, valid_f1scores, test_f1scores"
      ],
      "execution_count": null,
      "outputs": []
    },
    {
      "cell_type": "code",
      "metadata": {
        "id": "r3kecLGvXzMC"
      },
      "source": [
        "## !python3 -m spacy download en_core_web_md"
      ],
      "execution_count": null,
      "outputs": []
    },
    {
      "cell_type": "markdown",
      "metadata": {
        "id": "vpQwFT7ghknB"
      },
      "source": [
        "#### Lets train the model on our dataset"
      ]
    },
    {
      "cell_type": "code",
      "metadata": {
        "colab": {
          "base_uri": "https://localhost:8080/"
        },
        "id": "Rz5KCrZeXzMD",
        "outputId": "85ff1c06-bec0-48a8-d732-85bacfb2ca97"
      },
      "source": [
        "# Train (and save) the NER model\n",
        "ner, train_f1scores, valid_f1scores, test_f1scores = train_spacy(TRAIN_DATA, LABELS, 20)\n",
        "ner.to_disk(\"/content/drive/MyDrive/NLP Case Study/Datasets/BC5CDR-disease/spacy_example\")"
      ],
      "execution_count": null,
      "outputs": [
        {
          "output_type": "stream",
          "name": "stdout",
          "text": [
            "=======================================\n",
            "Interation = 0\n",
            "Losses = {'ner': 53083.19427680969}\n",
            "===============TRAIN DATA========================\n",
            "F1-score = 0.0\n",
            "Precision = 0.0\n",
            "Recall = 0.0\n",
            "===============VALID DATA========================\n",
            "F1-score = 0.0\n",
            "Precision = 0.0\n",
            "Recall = 0.0\n",
            "===============TEST DATA========================\n",
            "F1-score = 0.0\n",
            "Precision = 0.0\n",
            "Recall = 0.0\n",
            "=======================================\n",
            "\n",
            "=======================================\n",
            "Interation = 1\n",
            "Losses = {'ner': 47111.194595336914}\n",
            "===============TRAIN DATA========================\n",
            "F1-score = 0.0\n",
            "Precision = 0.0\n",
            "Recall = 0.0\n",
            "===============VALID DATA========================\n",
            "F1-score = 0.0\n",
            "Precision = 0.0\n",
            "Recall = 0.0\n",
            "===============TEST DATA========================\n",
            "F1-score = 0.0\n",
            "Precision = 0.0\n",
            "Recall = 0.0\n",
            "=======================================\n",
            "\n",
            "=======================================\n",
            "Interation = 2\n",
            "Losses = {'ner': 47224.17700386047}\n",
            "===============TRAIN DATA========================\n",
            "F1-score = 0.006186257935693601\n",
            "Precision = 0.005289064459493353\n",
            "Recall = 0.008276899924755455\n",
            "===============VALID DATA========================\n",
            "F1-score = 0.007482317538027844\n",
            "Precision = 0.006383914754388291\n",
            "Recall = 0.010027855153203343\n",
            "===============TEST DATA========================\n",
            "F1-score = 0.006368072048827109\n",
            "Precision = 0.005323545990329945\n",
            "Recall = 0.008796622097114707\n",
            "=======================================\n",
            "\n",
            "=======================================\n",
            "Interation = 3\n",
            "Losses = {'ner': 47703.6766204834}\n",
            "===============TRAIN DATA========================\n",
            "F1-score = 0.7079741751017146\n",
            "Precision = 0.6987879073325893\n",
            "Recall = 0.7573332079257586\n",
            "===============VALID DATA========================\n",
            "F1-score = 0.7083718407141314\n",
            "Precision = 0.6996899412055894\n",
            "Recall = 0.7568415351284431\n",
            "===============TEST DATA========================\n",
            "F1-score = 0.7377173300337393\n",
            "Precision = 0.7286333339816802\n",
            "Recall = 0.7784533025032674\n",
            "=======================================\n",
            "\n",
            "=======================================\n",
            "Interation = 4\n",
            "Losses = {'ner': 47197.55503463745}\n",
            "===============TRAIN DATA========================\n",
            "F1-score = 0.5887166230224921\n",
            "Precision = 0.5754946198330211\n",
            "Recall = 0.6349940879286252\n",
            "===============VALID DATA========================\n",
            "F1-score = 0.5850759569837073\n",
            "Precision = 0.5706256557419919\n",
            "Recall = 0.6332369456603439\n",
            "===============TEST DATA========================\n",
            "F1-score = 0.5781765238620394\n",
            "Precision = 0.5639259413274192\n",
            "Recall = 0.6219739619985925\n",
            "=======================================\n",
            "\n",
            "=======================================\n",
            "Interation = 5\n",
            "Losses = {'ner': 46740.72278594971}\n",
            "===============TRAIN DATA========================\n",
            "F1-score = 0.8203528500593964\n",
            "Precision = 0.8209668575649713\n",
            "Recall = 0.8566022609194166\n",
            "===============VALID DATA========================\n",
            "F1-score = 0.8190890904569423\n",
            "Precision = 0.8193957787974103\n",
            "Recall = 0.8548556395631604\n",
            "===============TEST DATA========================\n",
            "F1-score = 0.824735021467335\n",
            "Precision = 0.8227921620954697\n",
            "Recall = 0.8566854327938072\n",
            "=======================================\n",
            "\n",
            "=======================================\n",
            "Interation = 6\n",
            "Losses = {'ner': 46454.72134590149}\n",
            "===============TRAIN DATA========================\n",
            "F1-score = 0.7737022220317932\n",
            "Precision = 0.7685955059836875\n",
            "Recall = 0.8117023182485936\n",
            "===============VALID DATA========================\n",
            "F1-score = 0.7723724456704958\n",
            "Precision = 0.7674614158324068\n",
            "Recall = 0.8093487199893886\n",
            "===============TEST DATA========================\n",
            "F1-score = 0.7827010848433211\n",
            "Precision = 0.7733529489511194\n",
            "Recall = 0.820736570490265\n",
            "=======================================\n",
            "\n",
            "=======================================\n",
            "Interation = 7\n",
            "Losses = {'ner': 46123.82127761841}\n",
            "===============TRAIN DATA========================\n",
            "F1-score = 0.830983357416766\n",
            "Precision = 0.8355737539488561\n",
            "Recall = 0.8536636927156116\n",
            "===============VALID DATA========================\n",
            "F1-score = 0.8326568940190111\n",
            "Precision = 0.8377834465607952\n",
            "Recall = 0.8550510677808729\n",
            "===============TEST DATA========================\n",
            "F1-score = 0.83522722103413\n",
            "Precision = 0.840958506854003\n",
            "Recall = 0.8548716530947356\n",
            "=======================================\n",
            "\n",
            "=======================================\n",
            "Interation = 8\n",
            "Losses = {'ner': 45755.73818588257}\n",
            "===============TRAIN DATA========================\n",
            "F1-score = 0.8811230551072537\n",
            "Precision = 0.8901728719359704\n",
            "Recall = 0.9009351821992904\n",
            "===============VALID DATA========================\n",
            "F1-score = 0.8792499644170954\n",
            "Precision = 0.8891873041411231\n",
            "Recall = 0.8980174205243843\n",
            "===============TEST DATA========================\n",
            "F1-score = 0.8742628726137647\n",
            "Precision = 0.8850198095359953\n",
            "Recall = 0.8909390603532054\n",
            "=======================================\n",
            "\n",
            "=======================================\n",
            "Interation = 9\n",
            "Losses = {'ner': 45521.37649154663}\n",
            "===============TRAIN DATA========================\n",
            "F1-score = 0.8924498605649847\n",
            "Precision = 0.9036885789989627\n",
            "Recall = 0.9095345587444912\n",
            "===============VALID DATA========================\n",
            "F1-score = 0.888508954678871\n",
            "Precision = 0.9017035064388825\n",
            "Recall = 0.9032243445196092\n",
            "===============TEST DATA========================\n",
            "F1-score = 0.8795970216143458\n",
            "Precision = 0.8937887851065192\n",
            "Recall = 0.8933874535035689\n",
            "=======================================\n",
            "\n",
            "=======================================\n",
            "Interation = 10\n",
            "Losses = {'ner': 45324.36114501953}\n",
            "===============TRAIN DATA========================\n",
            "F1-score = 0.8950911913101529\n",
            "Precision = 0.9021348687262909\n",
            "Recall = 0.9152939016088\n",
            "===============VALID DATA========================\n",
            "F1-score = 0.8885040745904256\n",
            "Precision = 0.8981561747857012\n",
            "Recall = 0.9060980678250874\n",
            "===============TEST DATA========================\n",
            "F1-score = 0.8789997906335821\n",
            "Precision = 0.888666498096477\n",
            "Recall = 0.896286568814718\n",
            "=======================================\n",
            "\n",
            "=======================================\n",
            "Interation = 11\n",
            "Losses = {'ner': 45034.95957374573}\n",
            "===============TRAIN DATA========================\n",
            "F1-score = 0.9188598501239587\n",
            "Precision = 0.9277953945561168\n",
            "Recall = 0.9359651008635208\n",
            "===============VALID DATA========================\n",
            "F1-score = 0.9063862048402438\n",
            "Precision = 0.9173719790989985\n",
            "Recall = 0.9217064597426714\n",
            "===============TEST DATA========================\n",
            "F1-score = 0.8937408983022055\n",
            "Precision = 0.9057983067835286\n",
            "Recall = 0.9088824938842534\n",
            "=======================================\n",
            "\n",
            "=======================================\n",
            "Interation = 12\n",
            "Losses = {'ner': 44894.23051261902}\n",
            "===============TRAIN DATA========================\n",
            "F1-score = 0.9219597098829604\n",
            "Precision = 0.9319585815071143\n",
            "Recall = 0.9361978513502215\n",
            "===============VALID DATA========================\n",
            "F1-score = 0.9073845333455361\n",
            "Precision = 0.920206844635814\n",
            "Recall = 0.9197458401497398\n",
            "===============TEST DATA========================\n",
            "F1-score = 0.8942250806301598\n",
            "Precision = 0.9061625986414868\n",
            "Recall = 0.9082399215843973\n",
            "=======================================\n",
            "\n",
            "=======================================\n",
            "Interation = 13\n",
            "Losses = {'ner': 44970.06093406677}\n",
            "===============TRAIN DATA========================\n",
            "F1-score = 0.9080026235782442\n",
            "Precision = 0.9045753806387049\n",
            "Recall = 0.9351181518506576\n",
            "===============VALID DATA========================\n",
            "F1-score = 0.8886398626649323\n",
            "Precision = 0.8876045940625914\n",
            "Recall = 0.9143863023389485\n",
            "===============TEST DATA========================\n",
            "F1-score = 0.872331113310436\n",
            "Precision = 0.8724081444788694\n",
            "Recall = 0.8963904527328173\n",
            "=======================================\n",
            "\n",
            "=======================================\n",
            "Interation = 14\n",
            "Losses = {'ner': 44806.990814208984}\n",
            "===============TRAIN DATA========================\n",
            "F1-score = 0.9367809412391805\n",
            "Precision = 0.9418344280082428\n",
            "Recall = 0.9532623884768353\n",
            "===============VALID DATA========================\n",
            "F1-score = 0.9179353659073296\n",
            "Precision = 0.9259945264680639\n",
            "Recall = 0.9332472680522819\n",
            "===============TEST DATA========================\n",
            "F1-score = 0.9041417832534279\n",
            "Precision = 0.9139486881481955\n",
            "Recall = 0.9169134671333827\n",
            "=======================================\n",
            "\n",
            "=======================================\n",
            "Interation = 15\n",
            "Losses = {'ner': 44460.52847290039}\n",
            "===============TRAIN DATA========================\n",
            "F1-score = 0.9451116791410243\n",
            "Precision = 0.951320167375472\n",
            "Recall = 0.9601056110931956\n",
            "===============VALID DATA========================\n",
            "F1-score = 0.9261353002717907\n",
            "Precision = 0.9356874565648937\n",
            "Recall = 0.9394665517088916\n",
            "===============TEST DATA========================\n",
            "F1-score = 0.9143090401845627\n",
            "Precision = 0.9247724810180827\n",
            "Recall = 0.9258034248182031\n",
            "=======================================\n",
            "\n",
            "=======================================\n",
            "Interation = 16\n",
            "Losses = {'ner': 44397.39739894867}\n",
            "===============TRAIN DATA========================\n",
            "F1-score = 0.9451603220790581\n",
            "Precision = 0.9524542101573704\n",
            "Recall = 0.9575865610854324\n",
            "===============VALID DATA========================\n",
            "F1-score = 0.9237676080056877\n",
            "Precision = 0.9346187914015213\n",
            "Recall = 0.9345610636139885\n",
            "===============TEST DATA========================\n",
            "F1-score = 0.9059603446830752\n",
            "Precision = 0.9193779176097966\n",
            "Recall = 0.9144863610468816\n",
            "=======================================\n",
            "\n",
            "=======================================\n",
            "Interation = 17\n",
            "Losses = {'ner': 44581.68503570557}\n",
            "===============TRAIN DATA========================\n",
            "F1-score = 0.9532532449575338\n",
            "Precision = 0.9646344208420958\n",
            "Recall = 0.9597550670631935\n",
            "===============VALID DATA========================\n",
            "F1-score = 0.9305598714761594\n",
            "Precision = 0.9456878987101828\n",
            "Recall = 0.9373841344871985\n",
            "===============TEST DATA========================\n",
            "F1-score = 0.916418220692344\n",
            "Precision = 0.934910340461009\n",
            "Recall = 0.9203550408071871\n",
            "=======================================\n",
            "\n",
            "=======================================\n",
            "Interation = 18\n",
            "Losses = {'ner': 44403.61897659302}\n",
            "===============TRAIN DATA========================\n",
            "F1-score = 0.9411302183311212\n",
            "Precision = 0.9386536487463183\n",
            "Recall = 0.9636412089290193\n",
            "===============VALID DATA========================\n",
            "F1-score = 0.9122364981557183\n",
            "Precision = 0.9112210250884931\n",
            "Recall = 0.9358860591590397\n",
            "===============TEST DATA========================\n",
            "F1-score = 0.8922901411072541\n",
            "Precision = 0.8921746112984679\n",
            "Recall = 0.9170922556214604\n",
            "=======================================\n",
            "\n",
            "=======================================\n",
            "Interation = 19\n",
            "Losses = {'ner': 44481.005434036255}\n",
            "===============TRAIN DATA========================\n",
            "F1-score = 0.9483960557591304\n",
            "Precision = 0.952564796836806\n",
            "Recall = 0.9628753269554623\n",
            "===============VALID DATA========================\n",
            "F1-score = 0.9225612841930098\n",
            "Precision = 0.9293092696017486\n",
            "Recall = 0.9370211254751645\n",
            "===============TEST DATA========================\n",
            "F1-score = 0.905301446540011\n",
            "Precision = 0.9147531284494689\n",
            "Recall = 0.9174839147481654\n",
            "=======================================\n",
            "\n"
          ]
        }
      ]
    },
    {
      "cell_type": "markdown",
      "metadata": {
        "id": "72ezYI-70gjG"
      },
      "source": [
        "### Visualize Model Performance"
      ]
    },
    {
      "cell_type": "code",
      "metadata": {
        "colab": {
          "base_uri": "https://localhost:8080/",
          "height": 313
        },
        "id": "zNRpTZ3n-_Cf",
        "outputId": "d5ed85f9-9d39-48bd-ac75-7715e2d14e47"
      },
      "source": [
        "x=range(0,20)\n",
        "ax = plt.figure().gca()\n",
        "\n",
        "ax.xaxis.set_major_locator(MaxNLocator(integer=True))\n",
        "ax.plot(train_f1scores,label=\"Train F1_score\")\n",
        "ax.plot(test_f1scores,label=\"Test F1_score\")\n",
        "ax.set_xlabel('Iterations')\n",
        "ax.set_ylabel('F1 score')\n",
        "ax.legend()\n",
        "ax.set_title('F1 score vs Iterations for Train and Test data')"
      ],
      "execution_count": null,
      "outputs": [
        {
          "output_type": "execute_result",
          "data": {
            "text/plain": [
              "Text(0.5, 1.0, 'F1 score vs Iterations for Train and Test data')"
            ]
          },
          "metadata": {},
          "execution_count": 20
        },
        {
          "output_type": "display_data",
          "data": {
            "image/png": "[encoded data removed]",
            "text/plain": [
              "<Figure size 432x288 with 1 Axes>"
            ]
          },
          "metadata": {
            "needs_background": "light"
          }
        }
      ]
    },
    {
      "cell_type": "code",
      "metadata": {
        "colab": {
          "base_uri": "https://localhost:8080/",
          "height": 313
        },
        "id": "nvoUxkdHXzME",
        "outputId": "b8fcfbe6-d7d4-4536-fc47-bd2560e3cecc"
      },
      "source": [
        "x=range(0,20)\n",
        "ax = plt.figure().gca()\n",
        "\n",
        "ax.xaxis.set_major_locator(MaxNLocator(integer=True))\n",
        "ax.plot(valid_f1scores,label=\"Validation F1_score\")\n",
        "ax.plot(test_f1scores,label=\"Test F1_score\")\n",
        "ax.set_xlabel('Iterations')\n",
        "ax.set_ylabel('F1 score')\n",
        "ax.legend()\n",
        "ax.set_title('F1 score vs Iterations for validation and test data')"
      ],
      "execution_count": null,
      "outputs": [
        {
          "output_type": "execute_result",
          "data": {
            "text/plain": [
              "Text(0.5, 1.0, 'F1 score vs Iterations for validation and test data')"
            ]
          },
          "metadata": {},
          "execution_count": 21
        },
        {
          "output_type": "display_data",
          "data": {
            "image/png": "[encoded data removed]",
            "text/plain": [
              "<Figure size 432x288 with 1 Axes>"
            ]
          },
          "metadata": {
            "needs_background": "light"
          }
        }
      ]
    },
    {
      "cell_type": "markdown",
      "metadata": {
        "id": "OOG4u8G6iG8-"
      },
      "source": [
        "### Test model on new sentences\n",
        "\n",
        "To test the model on new sentences, the load_model function is used to reload the trained model weights, and load_data is called to load and transform the test data. \n",
        "\n",
        "The spacy function displacy is used to visualize the predictions of the first 20 Test Sentences. \n",
        "- As the results show, the architecture has learned good representations of the entities. However, there still exist a few errors. While some of these may be mitigated with increased training time (the loss was still decreasing rapidly after 5 iterations), others may require additional pre-processing, such as fixing spelling mistakes.\n",
        "\n"
      ]
    },
    {
      "cell_type": "markdown",
      "metadata": {
        "id": "Yc3AZ9XzhsMY"
      },
      "source": [
        "#### Load the Saved Model"
      ]
    },
    {
      "cell_type": "code",
      "metadata": {
        "id": "vf3K1Nr9XzMG"
      },
      "source": [
        "from spacy import displacy\n",
        "\n",
        "def load_model(model_path):\n",
        "    ''' Loads a pre-trained model for prediction on new test sentences\n",
        "   \n",
        "    model_path : directory of model saved by spacy.to_disk\n",
        "    '''\n",
        "    nlp = spacy.blank('en')\n",
        "    if 'ner' not in nlp.pipe_names:\n",
        "        ner = nlp.create_pipe('ner')\n",
        "        nlp.add_pipe(ner)\n",
        "    ner = nlp.from_disk(model_path)\n",
        "    return ner"
      ],
      "execution_count": null,
      "outputs": []
    },
    {
      "cell_type": "markdown",
      "metadata": {
        "id": "vNAMMmxt0sjd"
      },
      "source": [
        "#### Lets test our model on Test data"
      ]
    },
    {
      "cell_type": "code",
      "metadata": {
        "colab": {
          "base_uri": "https://localhost:8080/",
          "height": 950
        },
        "id": "j2R9gUL6XzMG",
        "outputId": "af2cd1a9-d599-467e-a2f9-263cfcaae6c9"
      },
      "source": [
        "ner = load_model(\"/content/drive/MyDrive/NLP Case Study/Datasets/BC5CDR-disease/spacy_example\")\n",
        "\n",
        "\n",
        "test_sentences = [x[0] for x in TEST_DATA[0:15]] # extract the sentences from [sentence, entity]\n",
        "for x in test_sentences:\n",
        "    doc = ner(x)\n",
        "    displacy.render(doc, jupyter = True, style = \"ent\")"
      ],
      "execution_count": null,
      "outputs": [
        {
          "output_type": "display_data",
          "data": {
            "text/html": [
              "<span class=\"tex2jax_ignore\"><div class=\"entities\" style=\"line-height: 2.5; direction: ltr\">Torsade de \n",
              "<mark class=\"entity\" style=\"background: #ddd; padding: 0.45em 0.6em; margin: 0 0.25em; line-height: 1; border-radius: 0.35em;\">\n",
              "    pointes\n",
              "    <span style=\"font-size: 0.8em; font-weight: bold; line-height: 1; border-radius: 0.35em; text-transform: uppercase; vertical-align: middle; margin-left: 0.5rem\">B_Disease</span>\n",
              "</mark>\n",
              " \n",
              "<mark class=\"entity\" style=\"background: #ddd; padding: 0.45em 0.6em; margin: 0 0.25em; line-height: 1; border-radius: 0.35em;\">\n",
              "    ventricular\n",
              "    <span style=\"font-size: 0.8em; font-weight: bold; line-height: 1; border-radius: 0.35em; text-transform: uppercase; vertical-align: middle; margin-left: 0.5rem\">I_Disease</span>\n",
              "</mark>\n",
              " \n",
              "<mark class=\"entity\" style=\"background: #ddd; padding: 0.45em 0.6em; margin: 0 0.25em; line-height: 1; border-radius: 0.35em;\">\n",
              "    tachycardia\n",
              "    <span style=\"font-size: 0.8em; font-weight: bold; line-height: 1; border-radius: 0.35em; text-transform: uppercase; vertical-align: middle; margin-left: 0.5rem\">I_Disease</span>\n",
              "</mark>\n",
              " during low dose intermittent dobutamine treatment in a patient with \n",
              "<mark class=\"entity\" style=\"background: #ddd; padding: 0.45em 0.6em; margin: 0 0.25em; line-height: 1; border-radius: 0.35em;\">\n",
              "    dilated\n",
              "    <span style=\"font-size: 0.8em; font-weight: bold; line-height: 1; border-radius: 0.35em; text-transform: uppercase; vertical-align: middle; margin-left: 0.5rem\">B_Disease</span>\n",
              "</mark>\n",
              " \n",
              "<mark class=\"entity\" style=\"background: #ddd; padding: 0.45em 0.6em; margin: 0 0.25em; line-height: 1; border-radius: 0.35em;\">\n",
              "    cardiomyopathy\n",
              "    <span style=\"font-size: 0.8em; font-weight: bold; line-height: 1; border-radius: 0.35em; text-transform: uppercase; vertical-align: middle; margin-left: 0.5rem\">I_Disease</span>\n",
              "</mark>\n",
              " and \n",
              "<mark class=\"entity\" style=\"background: #ddd; padding: 0.45em 0.6em; margin: 0 0.25em; line-height: 1; border-radius: 0.35em;\">\n",
              "    congestive\n",
              "    <span style=\"font-size: 0.8em; font-weight: bold; line-height: 1; border-radius: 0.35em; text-transform: uppercase; vertical-align: middle; margin-left: 0.5rem\">B_Disease</span>\n",
              "</mark>\n",
              " \n",
              "<mark class=\"entity\" style=\"background: #ddd; padding: 0.45em 0.6em; margin: 0 0.25em; line-height: 1; border-radius: 0.35em;\">\n",
              "    heart\n",
              "    <span style=\"font-size: 0.8em; font-weight: bold; line-height: 1; border-radius: 0.35em; text-transform: uppercase; vertical-align: middle; margin-left: 0.5rem\">I_Disease</span>\n",
              "</mark>\n",
              " \n",
              "<mark class=\"entity\" style=\"background: #ddd; padding: 0.45em 0.6em; margin: 0 0.25em; line-height: 1; border-radius: 0.35em;\">\n",
              "    failure\n",
              "    <span style=\"font-size: 0.8em; font-weight: bold; line-height: 1; border-radius: 0.35em; text-transform: uppercase; vertical-align: middle; margin-left: 0.5rem\">I_Disease</span>\n",
              "</mark>\n",
              " .</div></span>"
            ],
            "text/plain": [
              "<IPython.core.display.HTML object>"
            ]
          },
          "metadata": {}
        },
        {
          "output_type": "display_data",
          "data": {
            "text/html": [
              "<span class=\"tex2jax_ignore\"><div class=\"entities\" style=\"line-height: 2.5; direction: ltr\">The authors describe the case of a 56 - year - old woman with chronic , severe \n",
              "<mark class=\"entity\" style=\"background: #ddd; padding: 0.45em 0.6em; margin: 0 0.25em; line-height: 1; border-radius: 0.35em;\">\n",
              "    heart\n",
              "    <span style=\"font-size: 0.8em; font-weight: bold; line-height: 1; border-radius: 0.35em; text-transform: uppercase; vertical-align: middle; margin-left: 0.5rem\">B_Disease</span>\n",
              "</mark>\n",
              " \n",
              "<mark class=\"entity\" style=\"background: #ddd; padding: 0.45em 0.6em; margin: 0 0.25em; line-height: 1; border-radius: 0.35em;\">\n",
              "    failure\n",
              "    <span style=\"font-size: 0.8em; font-weight: bold; line-height: 1; border-radius: 0.35em; text-transform: uppercase; vertical-align: middle; margin-left: 0.5rem\">I_Disease</span>\n",
              "</mark>\n",
              " secondary to \n",
              "<mark class=\"entity\" style=\"background: #ddd; padding: 0.45em 0.6em; margin: 0 0.25em; line-height: 1; border-radius: 0.35em;\">\n",
              "    dilated\n",
              "    <span style=\"font-size: 0.8em; font-weight: bold; line-height: 1; border-radius: 0.35em; text-transform: uppercase; vertical-align: middle; margin-left: 0.5rem\">B_Disease</span>\n",
              "</mark>\n",
              " \n",
              "<mark class=\"entity\" style=\"background: #ddd; padding: 0.45em 0.6em; margin: 0 0.25em; line-height: 1; border-radius: 0.35em;\">\n",
              "    cardiomyopathy\n",
              "    <span style=\"font-size: 0.8em; font-weight: bold; line-height: 1; border-radius: 0.35em; text-transform: uppercase; vertical-align: middle; margin-left: 0.5rem\">I_Disease</span>\n",
              "</mark>\n",
              " and absence of significant \n",
              "<mark class=\"entity\" style=\"background: #ddd; padding: 0.45em 0.6em; margin: 0 0.25em; line-height: 1; border-radius: 0.35em;\">\n",
              "    ventricular\n",
              "    <span style=\"font-size: 0.8em; font-weight: bold; line-height: 1; border-radius: 0.35em; text-transform: uppercase; vertical-align: middle; margin-left: 0.5rem\">B_Disease</span>\n",
              "</mark>\n",
              " \n",
              "<mark class=\"entity\" style=\"background: #ddd; padding: 0.45em 0.6em; margin: 0 0.25em; line-height: 1; border-radius: 0.35em;\">\n",
              "    arrhythmias\n",
              "    <span style=\"font-size: 0.8em; font-weight: bold; line-height: 1; border-radius: 0.35em; text-transform: uppercase; vertical-align: middle; margin-left: 0.5rem\">I_Disease</span>\n",
              "</mark>\n",
              " who developed QT prolongation and torsade de \n",
              "<mark class=\"entity\" style=\"background: #ddd; padding: 0.45em 0.6em; margin: 0 0.25em; line-height: 1; border-radius: 0.35em;\">\n",
              "    pointes\n",
              "    <span style=\"font-size: 0.8em; font-weight: bold; line-height: 1; border-radius: 0.35em; text-transform: uppercase; vertical-align: middle; margin-left: 0.5rem\">B_Disease</span>\n",
              "</mark>\n",
              " \n",
              "<mark class=\"entity\" style=\"background: #ddd; padding: 0.45em 0.6em; margin: 0 0.25em; line-height: 1; border-radius: 0.35em;\">\n",
              "    ventricular\n",
              "    <span style=\"font-size: 0.8em; font-weight: bold; line-height: 1; border-radius: 0.35em; text-transform: uppercase; vertical-align: middle; margin-left: 0.5rem\">I_Disease</span>\n",
              "</mark>\n",
              " \n",
              "<mark class=\"entity\" style=\"background: #ddd; padding: 0.45em 0.6em; margin: 0 0.25em; line-height: 1; border-radius: 0.35em;\">\n",
              "    tachycardia\n",
              "    <span style=\"font-size: 0.8em; font-weight: bold; line-height: 1; border-radius: 0.35em; text-transform: uppercase; vertical-align: middle; margin-left: 0.5rem\">I_Disease</span>\n",
              "</mark>\n",
              " during one cycle of intermittent low dose ( 2 . 5 mcg / kg per min ) dobutamine .</div></span>"
            ],
            "text/plain": [
              "<IPython.core.display.HTML object>"
            ]
          },
          "metadata": {}
        },
        {
          "output_type": "display_data",
          "data": {
            "text/html": [
              "<span class=\"tex2jax_ignore\"><div class=\"entities\" style=\"line-height: 2.5; direction: ltr\">This report of torsade de \n",
              "<mark class=\"entity\" style=\"background: #ddd; padding: 0.45em 0.6em; margin: 0 0.25em; line-height: 1; border-radius: 0.35em;\">\n",
              "    pointes\n",
              "    <span style=\"font-size: 0.8em; font-weight: bold; line-height: 1; border-radius: 0.35em; text-transform: uppercase; vertical-align: middle; margin-left: 0.5rem\">B_Disease</span>\n",
              "</mark>\n",
              " \n",
              "<mark class=\"entity\" style=\"background: #ddd; padding: 0.45em 0.6em; margin: 0 0.25em; line-height: 1; border-radius: 0.35em;\">\n",
              "    ventricular\n",
              "    <span style=\"font-size: 0.8em; font-weight: bold; line-height: 1; border-radius: 0.35em; text-transform: uppercase; vertical-align: middle; margin-left: 0.5rem\">I_Disease</span>\n",
              "</mark>\n",
              " \n",
              "<mark class=\"entity\" style=\"background: #ddd; padding: 0.45em 0.6em; margin: 0 0.25em; line-height: 1; border-radius: 0.35em;\">\n",
              "    tachycardia\n",
              "    <span style=\"font-size: 0.8em; font-weight: bold; line-height: 1; border-radius: 0.35em; text-transform: uppercase; vertical-align: middle; margin-left: 0.5rem\">I_Disease</span>\n",
              "</mark>\n",
              " during intermittent dobutamine supports the hypothesis that unpredictable fatal \n",
              "<mark class=\"entity\" style=\"background: #ddd; padding: 0.45em 0.6em; margin: 0 0.25em; line-height: 1; border-radius: 0.35em;\">\n",
              "    arrhythmias\n",
              "    <span style=\"font-size: 0.8em; font-weight: bold; line-height: 1; border-radius: 0.35em; text-transform: uppercase; vertical-align: middle; margin-left: 0.5rem\">B_Disease</span>\n",
              "</mark>\n",
              " may occur even with low doses and in patients with no history of significant \n",
              "<mark class=\"entity\" style=\"background: #ddd; padding: 0.45em 0.6em; margin: 0 0.25em; line-height: 1; border-radius: 0.35em;\">\n",
              "    rhythm\n",
              "    <span style=\"font-size: 0.8em; font-weight: bold; line-height: 1; border-radius: 0.35em; text-transform: uppercase; vertical-align: middle; margin-left: 0.5rem\">B_Disease</span>\n",
              "</mark>\n",
              " \n",
              "<mark class=\"entity\" style=\"background: #ddd; padding: 0.45em 0.6em; margin: 0 0.25em; line-height: 1; border-radius: 0.35em;\">\n",
              "    disturbances\n",
              "    <span style=\"font-size: 0.8em; font-weight: bold; line-height: 1; border-radius: 0.35em; text-transform: uppercase; vertical-align: middle; margin-left: 0.5rem\">I_Disease</span>\n",
              "</mark>\n",
              " .</div></span>"
            ],
            "text/plain": [
              "<IPython.core.display.HTML object>"
            ]
          },
          "metadata": {}
        },
        {
          "output_type": "display_data",
          "data": {
            "text/html": [
              "<span class=\"tex2jax_ignore\"><div class=\"entities\" style=\"line-height: 2.5; direction: ltr\">After angiography by the venous route in patient n degree 1 a biphasic reaction with an immediate reaction ( \n",
              "<mark class=\"entity\" style=\"background: #ddd; padding: 0.45em 0.6em; margin: 0 0.25em; line-height: 1; border-radius: 0.35em;\">\n",
              "    dyspnea\n",
              "    <span style=\"font-size: 0.8em; font-weight: bold; line-height: 1; border-radius: 0.35em; text-transform: uppercase; vertical-align: middle; margin-left: 0.5rem\">B_Disease</span>\n",
              "</mark>\n",
              " , \n",
              "<mark class=\"entity\" style=\"background: #ddd; padding: 0.45em 0.6em; margin: 0 0.25em; line-height: 1; border-radius: 0.35em;\">\n",
              "    loss\n",
              "    <span style=\"font-size: 0.8em; font-weight: bold; line-height: 1; border-radius: 0.35em; text-transform: uppercase; vertical-align: middle; margin-left: 0.5rem\">B_Disease</span>\n",
              "</mark>\n",
              " of \n",
              "<mark class=\"entity\" style=\"background: #ddd; padding: 0.45em 0.6em; margin: 0 0.25em; line-height: 1; border-radius: 0.35em;\">\n",
              "    consciousness\n",
              "    <span style=\"font-size: 0.8em; font-weight: bold; line-height: 1; border-radius: 0.35em; text-transform: uppercase; vertical-align: middle; margin-left: 0.5rem\">B_Disease</span>\n",
              "</mark>\n",
              " ) and delayed macro - \n",
              "<mark class=\"entity\" style=\"background: #ddd; padding: 0.45em 0.6em; margin: 0 0.25em; line-height: 1; border-radius: 0.35em;\">\n",
              "    papular\n",
              "    <span style=\"font-size: 0.8em; font-weight: bold; line-height: 1; border-radius: 0.35em; text-transform: uppercase; vertical-align: middle; margin-left: 0.5rem\">B_Disease</span>\n",
              "</mark>\n",
              " \n",
              "<mark class=\"entity\" style=\"background: #ddd; padding: 0.45em 0.6em; margin: 0 0.25em; line-height: 1; border-radius: 0.35em;\">\n",
              "    rash\n",
              "    <span style=\"font-size: 0.8em; font-weight: bold; line-height: 1; border-radius: 0.35em; text-transform: uppercase; vertical-align: middle; margin-left: 0.5rem\">I_Disease</span>\n",
              "</mark>\n",
              " appeared , whilst patient n degree 2 developed a generalised \n",
              "<mark class=\"entity\" style=\"background: #ddd; padding: 0.45em 0.6em; margin: 0 0.25em; line-height: 1; border-radius: 0.35em;\">\n",
              "    sensation\n",
              "    <span style=\"font-size: 0.8em; font-weight: bold; line-height: 1; border-radius: 0.35em; text-transform: uppercase; vertical-align: middle; margin-left: 0.5rem\">B_Disease</span>\n",
              "</mark>\n",
              " of heat , persistent \n",
              "<mark class=\"entity\" style=\"background: #ddd; padding: 0.45em 0.6em; margin: 0 0.25em; line-height: 1; border-radius: 0.35em;\">\n",
              "    pain\n",
              "    <span style=\"font-size: 0.8em; font-weight: bold; line-height: 1; border-radius: 0.35em; text-transform: uppercase; vertical-align: middle; margin-left: 0.5rem\">B_Disease</span>\n",
              "</mark>\n",
              " at the site of injection immediately and a generalised macro - papular reaction after 24 hours .</div></span>"
            ],
            "text/plain": [
              "<IPython.core.display.HTML object>"
            ]
          },
          "metadata": {}
        },
        {
          "output_type": "display_data",
          "data": {
            "text/html": [
              "<span class=\"tex2jax_ignore\"><div class=\"entities\" style=\"line-height: 2.5; direction: ltr\">The positive skin tests are in favour of immunological reactions and may help in diagnosis of \n",
              "<mark class=\"entity\" style=\"background: #ddd; padding: 0.45em 0.6em; margin: 0 0.25em; line-height: 1; border-radius: 0.35em;\">\n",
              "    allergy\n",
              "    <span style=\"font-size: 0.8em; font-weight: bold; line-height: 1; border-radius: 0.35em; text-transform: uppercase; vertical-align: middle; margin-left: 0.5rem\">B_Disease</span>\n",
              "</mark>\n",
              " in the patients .</div></span>"
            ],
            "text/plain": [
              "<IPython.core.display.HTML object>"
            ]
          },
          "metadata": {}
        },
        {
          "output_type": "display_data",
          "data": {
            "text/html": [
              "<span class=\"tex2jax_ignore\"><div class=\"entities\" style=\"line-height: 2.5; direction: ltr\">Risk of transient \n",
              "<mark class=\"entity\" style=\"background: #ddd; padding: 0.45em 0.6em; margin: 0 0.25em; line-height: 1; border-radius: 0.35em;\">\n",
              "    hyperammonemic\n",
              "    <span style=\"font-size: 0.8em; font-weight: bold; line-height: 1; border-radius: 0.35em; text-transform: uppercase; vertical-align: middle; margin-left: 0.5rem\">B_Disease</span>\n",
              "</mark>\n",
              " \n",
              "<mark class=\"entity\" style=\"background: #ddd; padding: 0.45em 0.6em; margin: 0 0.25em; line-height: 1; border-radius: 0.35em;\">\n",
              "    encephalopathy\n",
              "    <span style=\"font-size: 0.8em; font-weight: bold; line-height: 1; border-radius: 0.35em; text-transform: uppercase; vertical-align: middle; margin-left: 0.5rem\">I_Disease</span>\n",
              "</mark>\n",
              " in \n",
              "<mark class=\"entity\" style=\"background: #ddd; padding: 0.45em 0.6em; margin: 0 0.25em; line-height: 1; border-radius: 0.35em;\">\n",
              "    cancer\n",
              "    <span style=\"font-size: 0.8em; font-weight: bold; line-height: 1; border-radius: 0.35em; text-transform: uppercase; vertical-align: middle; margin-left: 0.5rem\">B_Disease</span>\n",
              "</mark>\n",
              " patients who received continuous infusion of 5 - fluorouracil with the complication of \n",
              "<mark class=\"entity\" style=\"background: #ddd; padding: 0.45em 0.6em; margin: 0 0.25em; line-height: 1; border-radius: 0.35em;\">\n",
              "    dehydration\n",
              "    <span style=\"font-size: 0.8em; font-weight: bold; line-height: 1; border-radius: 0.35em; text-transform: uppercase; vertical-align: middle; margin-left: 0.5rem\">B_Disease</span>\n",
              "</mark>\n",
              " and \n",
              "<mark class=\"entity\" style=\"background: #ddd; padding: 0.45em 0.6em; margin: 0 0.25em; line-height: 1; border-radius: 0.35em;\">\n",
              "    infection\n",
              "    <span style=\"font-size: 0.8em; font-weight: bold; line-height: 1; border-radius: 0.35em; text-transform: uppercase; vertical-align: middle; margin-left: 0.5rem\">B_Disease</span>\n",
              "</mark>\n",
              " .</div></span>"
            ],
            "text/plain": [
              "<IPython.core.display.HTML object>"
            ]
          },
          "metadata": {}
        },
        {
          "output_type": "display_data",
          "data": {
            "text/html": [
              "<span class=\"tex2jax_ignore\"><div class=\"entities\" style=\"line-height: 2.5; direction: ltr\">From 1986 to 1998 , 29 \n",
              "<mark class=\"entity\" style=\"background: #ddd; padding: 0.45em 0.6em; margin: 0 0.25em; line-height: 1; border-radius: 0.35em;\">\n",
              "    cancer\n",
              "    <span style=\"font-size: 0.8em; font-weight: bold; line-height: 1; border-radius: 0.35em; text-transform: uppercase; vertical-align: middle; margin-left: 0.5rem\">B_Disease</span>\n",
              "</mark>\n",
              " patients who had 32 episodes of transient \n",
              "<mark class=\"entity\" style=\"background: #ddd; padding: 0.45em 0.6em; margin: 0 0.25em; line-height: 1; border-radius: 0.35em;\">\n",
              "    hyperammonemic\n",
              "    <span style=\"font-size: 0.8em; font-weight: bold; line-height: 1; border-radius: 0.35em; text-transform: uppercase; vertical-align: middle; margin-left: 0.5rem\">B_Disease</span>\n",
              "</mark>\n",
              " \n",
              "<mark class=\"entity\" style=\"background: #ddd; padding: 0.45em 0.6em; margin: 0 0.25em; line-height: 1; border-radius: 0.35em;\">\n",
              "    encephalopathy\n",
              "    <span style=\"font-size: 0.8em; font-weight: bold; line-height: 1; border-radius: 0.35em; text-transform: uppercase; vertical-align: middle; margin-left: 0.5rem\">I_Disease</span>\n",
              "</mark>\n",
              " related to continuous infusion of 5 - fluorouracil ( 5 - FU ) were identified .</div></span>"
            ],
            "text/plain": [
              "<IPython.core.display.HTML object>"
            ]
          },
          "metadata": {}
        },
        {
          "output_type": "display_data",
          "data": {
            "text/html": [
              "<span class=\"tex2jax_ignore\"><div class=\"entities\" style=\"line-height: 2.5; direction: ltr\">None of the patients had \n",
              "<mark class=\"entity\" style=\"background: #ddd; padding: 0.45em 0.6em; margin: 0 0.25em; line-height: 1; border-radius: 0.35em;\">\n",
              "    decompensated\n",
              "    <span style=\"font-size: 0.8em; font-weight: bold; line-height: 1; border-radius: 0.35em; text-transform: uppercase; vertical-align: middle; margin-left: 0.5rem\">B_Disease</span>\n",
              "</mark>\n",
              " \n",
              "<mark class=\"entity\" style=\"background: #ddd; padding: 0.45em 0.6em; margin: 0 0.25em; line-height: 1; border-radius: 0.35em;\">\n",
              "    liver\n",
              "    <span style=\"font-size: 0.8em; font-weight: bold; line-height: 1; border-radius: 0.35em; text-transform: uppercase; vertical-align: middle; margin-left: 0.5rem\">I_Disease</span>\n",
              "</mark>\n",
              " \n",
              "<mark class=\"entity\" style=\"background: #ddd; padding: 0.45em 0.6em; margin: 0 0.25em; line-height: 1; border-radius: 0.35em;\">\n",
              "    disease\n",
              "    <span style=\"font-size: 0.8em; font-weight: bold; line-height: 1; border-radius: 0.35em; text-transform: uppercase; vertical-align: middle; margin-left: 0.5rem\">I_Disease</span>\n",
              "</mark>\n",
              " .</div></span>"
            ],
            "text/plain": [
              "<IPython.core.display.HTML object>"
            ]
          },
          "metadata": {}
        },
        {
          "output_type": "display_data",
          "data": {
            "text/html": [
              "<span class=\"tex2jax_ignore\"><div class=\"entities\" style=\"line-height: 2.5; direction: ltr\">Onset of \n",
              "<mark class=\"entity\" style=\"background: #ddd; padding: 0.45em 0.6em; margin: 0 0.25em; line-height: 1; border-radius: 0.35em;\">\n",
              "    hyperammonemic\n",
              "    <span style=\"font-size: 0.8em; font-weight: bold; line-height: 1; border-radius: 0.35em; text-transform: uppercase; vertical-align: middle; margin-left: 0.5rem\">B_Disease</span>\n",
              "</mark>\n",
              " \n",
              "<mark class=\"entity\" style=\"background: #ddd; padding: 0.45em 0.6em; margin: 0 0.25em; line-height: 1; border-radius: 0.35em;\">\n",
              "    encephalopathy\n",
              "    <span style=\"font-size: 0.8em; font-weight: bold; line-height: 1; border-radius: 0.35em; text-transform: uppercase; vertical-align: middle; margin-left: 0.5rem\">I_Disease</span>\n",
              "</mark>\n",
              " varied from 0 . 5 to 5 days ( mean : 2 . 6 + / - 1 . 3 days ) after the initiation of chemotherapy .</div></span>"
            ],
            "text/plain": [
              "<IPython.core.display.HTML object>"
            ]
          },
          "metadata": {}
        },
        {
          "output_type": "display_data",
          "data": {
            "text/html": [
              "<span class=\"tex2jax_ignore\"><div class=\"entities\" style=\"line-height: 2.5; direction: ltr\">Among the 32 episodes , 26 ( 81 % ) had various degrees of \n",
              "<mark class=\"entity\" style=\"background: #ddd; padding: 0.45em 0.6em; margin: 0 0.25em; line-height: 1; border-radius: 0.35em;\">\n",
              "    azotemia\n",
              "    <span style=\"font-size: 0.8em; font-weight: bold; line-height: 1; border-radius: 0.35em; text-transform: uppercase; vertical-align: middle; margin-left: 0.5rem\">B_Disease</span>\n",
              "</mark>\n",
              " , 18 ( 56 % ) occurred during \n",
              "<mark class=\"entity\" style=\"background: #ddd; padding: 0.45em 0.6em; margin: 0 0.25em; line-height: 1; border-radius: 0.35em;\">\n",
              "    bacterial\n",
              "    <span style=\"font-size: 0.8em; font-weight: bold; line-height: 1; border-radius: 0.35em; text-transform: uppercase; vertical-align: middle; margin-left: 0.5rem\">B_Disease</span>\n",
              "</mark>\n",
              " \n",
              "<mark class=\"entity\" style=\"background: #ddd; padding: 0.45em 0.6em; margin: 0 0.25em; line-height: 1; border-radius: 0.35em;\">\n",
              "    infections\n",
              "    <span style=\"font-size: 0.8em; font-weight: bold; line-height: 1; border-radius: 0.35em; text-transform: uppercase; vertical-align: middle; margin-left: 0.5rem\">I_Disease</span>\n",
              "</mark>\n",
              " and 14 ( 44 % ) without \n",
              "<mark class=\"entity\" style=\"background: #ddd; padding: 0.45em 0.6em; margin: 0 0.25em; line-height: 1; border-radius: 0.35em;\">\n",
              "    infection\n",
              "    <span style=\"font-size: 0.8em; font-weight: bold; line-height: 1; border-radius: 0.35em; text-transform: uppercase; vertical-align: middle; margin-left: 0.5rem\">B_Disease</span>\n",
              "</mark>\n",
              " occurred during periods of \n",
              "<mark class=\"entity\" style=\"background: #ddd; padding: 0.45em 0.6em; margin: 0 0.25em; line-height: 1; border-radius: 0.35em;\">\n",
              "    dehydration\n",
              "    <span style=\"font-size: 0.8em; font-weight: bold; line-height: 1; border-radius: 0.35em; text-transform: uppercase; vertical-align: middle; margin-left: 0.5rem\">B_Disease</span>\n",
              "</mark>\n",
              " .</div></span>"
            ],
            "text/plain": [
              "<IPython.core.display.HTML object>"
            ]
          },
          "metadata": {}
        },
        {
          "output_type": "display_data",
          "data": {
            "text/html": [
              "<span class=\"tex2jax_ignore\"><div class=\"entities\" style=\"line-height: 2.5; direction: ltr\">Higher plasma ammonium levels and more rapid onset of \n",
              "<mark class=\"entity\" style=\"background: #ddd; padding: 0.45em 0.6em; margin: 0 0.25em; line-height: 1; border-radius: 0.35em;\">\n",
              "    hyperammonemia\n",
              "    <span style=\"font-size: 0.8em; font-weight: bold; line-height: 1; border-radius: 0.35em; text-transform: uppercase; vertical-align: middle; margin-left: 0.5rem\">B_Disease</span>\n",
              "</mark>\n",
              " were seen in 18 patients with \n",
              "<mark class=\"entity\" style=\"background: #ddd; padding: 0.45em 0.6em; margin: 0 0.25em; line-height: 1; border-radius: 0.35em;\">\n",
              "    bacterial\n",
              "    <span style=\"font-size: 0.8em; font-weight: bold; line-height: 1; border-radius: 0.35em; text-transform: uppercase; vertical-align: middle; margin-left: 0.5rem\">B_Disease</span>\n",
              "</mark>\n",
              " \n",
              "<mark class=\"entity\" style=\"background: #ddd; padding: 0.45em 0.6em; margin: 0 0.25em; line-height: 1; border-radius: 0.35em;\">\n",
              "    infections\n",
              "    <span style=\"font-size: 0.8em; font-weight: bold; line-height: 1; border-radius: 0.35em; text-transform: uppercase; vertical-align: middle; margin-left: 0.5rem\">I_Disease</span>\n",
              "</mark>\n",
              " ( p = 0 . 003 and 0 . 0006 , respectively ) and in nine patients receiving high daily doses ( 2600 or 1800 mg / m2 ) of 5 - FU ( p = 0 . 0001 and &lt; 0 . 0001 , respectively ) .</div></span>"
            ],
            "text/plain": [
              "<IPython.core.display.HTML object>"
            ]
          },
          "metadata": {}
        },
        {
          "output_type": "display_data",
          "data": {
            "text/html": [
              "<span class=\"tex2jax_ignore\"><div class=\"entities\" style=\"line-height: 2.5; direction: ltr\">In conclusion , \n",
              "<mark class=\"entity\" style=\"background: #ddd; padding: 0.45em 0.6em; margin: 0 0.25em; line-height: 1; border-radius: 0.35em;\">\n",
              "    hyperammonemic\n",
              "    <span style=\"font-size: 0.8em; font-weight: bold; line-height: 1; border-radius: 0.35em; text-transform: uppercase; vertical-align: middle; margin-left: 0.5rem\">B_Disease</span>\n",
              "</mark>\n",
              " \n",
              "<mark class=\"entity\" style=\"background: #ddd; padding: 0.45em 0.6em; margin: 0 0.25em; line-height: 1; border-radius: 0.35em;\">\n",
              "    encephalopathy\n",
              "    <span style=\"font-size: 0.8em; font-weight: bold; line-height: 1; border-radius: 0.35em; text-transform: uppercase; vertical-align: middle; margin-left: 0.5rem\">I_Disease</span>\n",
              "</mark>\n",
              " can occur in patients receiving continuous infusion of 5 - FU .</div></span>"
            ],
            "text/plain": [
              "<IPython.core.display.HTML object>"
            ]
          },
          "metadata": {}
        },
        {
          "output_type": "display_data",
          "data": {
            "text/html": [
              "<span class=\"tex2jax_ignore\"><div class=\"entities\" style=\"line-height: 2.5; direction: ltr\">\n",
              "<mark class=\"entity\" style=\"background: #ddd; padding: 0.45em 0.6em; margin: 0 0.25em; line-height: 1; border-radius: 0.35em;\">\n",
              "    Azotemia\n",
              "    <span style=\"font-size: 0.8em; font-weight: bold; line-height: 1; border-radius: 0.35em; text-transform: uppercase; vertical-align: middle; margin-left: 0.5rem\">B_Disease</span>\n",
              "</mark>\n",
              " , body \n",
              "<mark class=\"entity\" style=\"background: #ddd; padding: 0.45em 0.6em; margin: 0 0.25em; line-height: 1; border-radius: 0.35em;\">\n",
              "    fluid\n",
              "    <span style=\"font-size: 0.8em; font-weight: bold; line-height: 1; border-radius: 0.35em; text-transform: uppercase; vertical-align: middle; margin-left: 0.5rem\">B_Disease</span>\n",
              "</mark>\n",
              " \n",
              "<mark class=\"entity\" style=\"background: #ddd; padding: 0.45em 0.6em; margin: 0 0.25em; line-height: 1; border-radius: 0.35em;\">\n",
              "    insufficiency\n",
              "    <span style=\"font-size: 0.8em; font-weight: bold; line-height: 1; border-radius: 0.35em; text-transform: uppercase; vertical-align: middle; margin-left: 0.5rem\">I_Disease</span>\n",
              "</mark>\n",
              " and \n",
              "<mark class=\"entity\" style=\"background: #ddd; padding: 0.45em 0.6em; margin: 0 0.25em; line-height: 1; border-radius: 0.35em;\">\n",
              "    bacterial\n",
              "    <span style=\"font-size: 0.8em; font-weight: bold; line-height: 1; border-radius: 0.35em; text-transform: uppercase; vertical-align: middle; margin-left: 0.5rem\">B_Disease</span>\n",
              "</mark>\n",
              " \n",
              "<mark class=\"entity\" style=\"background: #ddd; padding: 0.45em 0.6em; margin: 0 0.25em; line-height: 1; border-radius: 0.35em;\">\n",
              "    infections\n",
              "    <span style=\"font-size: 0.8em; font-weight: bold; line-height: 1; border-radius: 0.35em; text-transform: uppercase; vertical-align: middle; margin-left: 0.5rem\">I_Disease</span>\n",
              "</mark>\n",
              " were frequently found in these patients .</div></span>"
            ],
            "text/plain": [
              "<IPython.core.display.HTML object>"
            ]
          },
          "metadata": {}
        },
        {
          "output_type": "display_data",
          "data": {
            "text/html": [
              "<span class=\"tex2jax_ignore\"><div class=\"entities\" style=\"line-height: 2.5; direction: ltr\">In the motor activity test measured with an Animex - activity meter neither of the K ( + ) - channel blockers affected morphine - induced \n",
              "<mark class=\"entity\" style=\"background: #ddd; padding: 0.45em 0.6em; margin: 0 0.25em; line-height: 1; border-radius: 0.35em;\">\n",
              "    hypoactivity\n",
              "    <span style=\"font-size: 0.8em; font-weight: bold; line-height: 1; border-radius: 0.35em; text-transform: uppercase; vertical-align: middle; margin-left: 0.5rem\">B_Disease</span>\n",
              "</mark>\n",
              " , but both K ( + ) - channel blockers prevented morphine - induced secondary \n",
              "<mark class=\"entity\" style=\"background: #ddd; padding: 0.45em 0.6em; margin: 0 0.25em; line-height: 1; border-radius: 0.35em;\">\n",
              "    hyperactivity\n",
              "    <span style=\"font-size: 0.8em; font-weight: bold; line-height: 1; border-radius: 0.35em; text-transform: uppercase; vertical-align: middle; margin-left: 0.5rem\">B_Disease</span>\n",
              "</mark>\n",
              " .</div></span>"
            ],
            "text/plain": [
              "<IPython.core.display.HTML object>"
            ]
          },
          "metadata": {}
        },
        {
          "output_type": "display_data",
          "data": {
            "text/html": [
              "<span class=\"tex2jax_ignore\"><div class=\"entities\" style=\"line-height: 2.5; direction: ltr\">It is also suggested that the blockade of K ( + ) - channels sensitive to these blockers is not sufficient to prevent morphine - induced \n",
              "<mark class=\"entity\" style=\"background: #ddd; padding: 0.45em 0.6em; margin: 0 0.25em; line-height: 1; border-radius: 0.35em;\">\n",
              "    hypoactivity\n",
              "    <span style=\"font-size: 0.8em; font-weight: bold; line-height: 1; border-radius: 0.35em; text-transform: uppercase; vertical-align: middle; margin-left: 0.5rem\">B_Disease</span>\n",
              "</mark>\n",
              " whereas morphine - induced \n",
              "<mark class=\"entity\" style=\"background: #ddd; padding: 0.45em 0.6em; margin: 0 0.25em; line-height: 1; border-radius: 0.35em;\">\n",
              "    hyperactivity\n",
              "    <span style=\"font-size: 0.8em; font-weight: bold; line-height: 1; border-radius: 0.35em; text-transform: uppercase; vertical-align: middle; margin-left: 0.5rem\">B_Disease</span>\n",
              "</mark>\n",
              " seems to be connected to both quinine - and 4 - aminopyridine - sensitive K ( + ) - channels .</div></span>"
            ],
            "text/plain": [
              "<IPython.core.display.HTML object>"
            ]
          },
          "metadata": {}
        }
      ]
    },
    {
      "cell_type": "markdown",
      "metadata": {
        "id": "uXyrpDhAsxWT"
      },
      "source": [
        "- From the above output we can see that the Model works perfectly well with regard to Test Data."
      ]
    },
    {
      "cell_type": "markdown",
      "metadata": {
        "id": "immEnalj1I8j"
      },
      "source": [
        "### Results on Unseen Text "
      ]
    },
    {
      "cell_type": "code",
      "metadata": {
        "colab": {
          "base_uri": "https://localhost:8080/",
          "height": 363
        },
        "id": "vztBNeYWXzMH",
        "outputId": "402aa878-b2a9-4449-bf36-9ed9db08bff8"
      },
      "source": [
        "ner = load_model(\"/content/drive/MyDrive/NLP Case Study/Datasets/BC5CDR-disease/spacy_example\")\n",
        "\n",
        "doc = ner('''Identification of APC2,\ta homologue of the adenomatous polyposis coli\ttumour suppressor. The adenomatous polyposis coli ( APC ) tumour - suppressor protein controls the Wnt signalling pathway by forming a complex with glycogen synthase kinase 3beta (GSK - 3beta ), axin/conductin and betacatenin. Complex formation induces the rapid degradation of betacatenin. \n",
        "In colon carcinoma cells, loss of APC leads to the accumulation of betacatenin in the nucleus, where it binds to and activates the Tcf - 4 transcription factor (reviewed in [1][2]).Here, we report the identification and genomic structure of APC homologues. Mammalian APC2, which closely resembles APC in overall domain structure , was functionally analyzed and shown to contain two SAMP domains, both of which are required for binding to conductin .\n",
        "Like APC,\tAPC2 regulates the formation of active betacatenin - Tcf complexes, as demonstrated using transient transcriptional activation assays in APC - /\t- colon carcinoma cells. Human APC2 maps to chromosome 19p13.3. APC and APC2 may therefore have comparable functions in development and cancer. A common MSH2 mutation in English and North American HNPCC families: origin, phenotypic expression, and sex specific differences in colorectal cancer.''')\n",
        "\n",
        "displacy.render(doc, jupyter=True, style = \"ent\")"
      ],
      "execution_count": null,
      "outputs": [
        {
          "output_type": "display_data",
          "data": {
            "text/html": [
              "<span class=\"tex2jax_ignore\"><div class=\"entities\" style=\"line-height: 2.5; direction: ltr\">Identification of APC2,\ta homologue of the adenomatous polyposis coli\t\n",
              "<mark class=\"entity\" style=\"background: #ddd; padding: 0.45em 0.6em; margin: 0 0.25em; line-height: 1; border-radius: 0.35em;\">\n",
              "    tumour\n",
              "    <span style=\"font-size: 0.8em; font-weight: bold; line-height: 1; border-radius: 0.35em; text-transform: uppercase; vertical-align: middle; margin-left: 0.5rem\">I_Disease</span>\n",
              "</mark>\n",
              " suppressor. The adenomatous polyposis coli ( APC ) \n",
              "<mark class=\"entity\" style=\"background: #ddd; padding: 0.45em 0.6em; margin: 0 0.25em; line-height: 1; border-radius: 0.35em;\">\n",
              "    tumour\n",
              "    <span style=\"font-size: 0.8em; font-weight: bold; line-height: 1; border-radius: 0.35em; text-transform: uppercase; vertical-align: middle; margin-left: 0.5rem\">B_Disease</span>\n",
              "</mark>\n",
              " - suppressor protein controls the Wnt signalling pathway by forming a complex with glycogen synthase kinase 3beta (GSK - 3beta ), axin/conductin and betacatenin. Complex formation induces the rapid degradation of betacatenin. </br>In \n",
              "<mark class=\"entity\" style=\"background: #ddd; padding: 0.45em 0.6em; margin: 0 0.25em; line-height: 1; border-radius: 0.35em;\">\n",
              "    colon\n",
              "    <span style=\"font-size: 0.8em; font-weight: bold; line-height: 1; border-radius: 0.35em; text-transform: uppercase; vertical-align: middle; margin-left: 0.5rem\">B_Disease</span>\n",
              "</mark>\n",
              " \n",
              "<mark class=\"entity\" style=\"background: #ddd; padding: 0.45em 0.6em; margin: 0 0.25em; line-height: 1; border-radius: 0.35em;\">\n",
              "    carcinoma\n",
              "    <span style=\"font-size: 0.8em; font-weight: bold; line-height: 1; border-radius: 0.35em; text-transform: uppercase; vertical-align: middle; margin-left: 0.5rem\">I_Disease</span>\n",
              "</mark>\n",
              " cells, \n",
              "<mark class=\"entity\" style=\"background: #ddd; padding: 0.45em 0.6em; margin: 0 0.25em; line-height: 1; border-radius: 0.35em;\">\n",
              "    loss\n",
              "    <span style=\"font-size: 0.8em; font-weight: bold; line-height: 1; border-radius: 0.35em; text-transform: uppercase; vertical-align: middle; margin-left: 0.5rem\">B_Disease</span>\n",
              "</mark>\n",
              " of APC leads to the accumulation of betacatenin in the nucleus, where it binds to and activates the Tcf - 4 transcription factor (reviewed in [1][2]).Here, we report the identification and genomic structure of APC homologues. Mammalian APC2, which closely resembles APC in overall domain structure , was functionally analyzed and shown to contain two SAMP domains, both of which are required for binding to conductin .</br>Like APC,\tAPC2 regulates the formation of active betacatenin - Tcf complexes, as demonstrated using transient transcriptional activation assays in APC - /\t- \n",
              "<mark class=\"entity\" style=\"background: #ddd; padding: 0.45em 0.6em; margin: 0 0.25em; line-height: 1; border-radius: 0.35em;\">\n",
              "    colon\n",
              "    <span style=\"font-size: 0.8em; font-weight: bold; line-height: 1; border-radius: 0.35em; text-transform: uppercase; vertical-align: middle; margin-left: 0.5rem\">I_Disease</span>\n",
              "</mark>\n",
              " \n",
              "<mark class=\"entity\" style=\"background: #ddd; padding: 0.45em 0.6em; margin: 0 0.25em; line-height: 1; border-radius: 0.35em;\">\n",
              "    carcinoma\n",
              "    <span style=\"font-size: 0.8em; font-weight: bold; line-height: 1; border-radius: 0.35em; text-transform: uppercase; vertical-align: middle; margin-left: 0.5rem\">I_Disease</span>\n",
              "</mark>\n",
              " cells. Human APC2 maps to chromosome 19p13.3. APC and APC2 may therefore have comparable functions in development and \n",
              "<mark class=\"entity\" style=\"background: #ddd; padding: 0.45em 0.6em; margin: 0 0.25em; line-height: 1; border-radius: 0.35em;\">\n",
              "    cancer\n",
              "    <span style=\"font-size: 0.8em; font-weight: bold; line-height: 1; border-radius: 0.35em; text-transform: uppercase; vertical-align: middle; margin-left: 0.5rem\">B_Disease</span>\n",
              "</mark>\n",
              ". A common MSH2 mutation in English and North American HNPCC families: origin, phenotypic expression, and sex specific differences in \n",
              "<mark class=\"entity\" style=\"background: #ddd; padding: 0.45em 0.6em; margin: 0 0.25em; line-height: 1; border-radius: 0.35em;\">\n",
              "    colorectal\n",
              "    <span style=\"font-size: 0.8em; font-weight: bold; line-height: 1; border-radius: 0.35em; text-transform: uppercase; vertical-align: middle; margin-left: 0.5rem\">B_Disease</span>\n",
              "</mark>\n",
              " \n",
              "<mark class=\"entity\" style=\"background: #ddd; padding: 0.45em 0.6em; margin: 0 0.25em; line-height: 1; border-radius: 0.35em;\">\n",
              "    cancer\n",
              "    <span style=\"font-size: 0.8em; font-weight: bold; line-height: 1; border-radius: 0.35em; text-transform: uppercase; vertical-align: middle; margin-left: 0.5rem\">I_Disease</span>\n",
              "</mark>\n",
              ".</div></span>"
            ],
            "text/plain": [
              "<IPython.core.display.HTML object>"
            ]
          },
          "metadata": {}
        }
      ]
    },
    {
      "cell_type": "markdown",
      "metadata": {
        "id": "Bz_Vumk61m4a"
      },
      "source": [
        "#### Conclusion\n",
        "\n",
        "- Here we can see that when trying to Recognize on unseen data **Cancer** and **Colorectal Cancer** Have been correctly identified. But **Tumour** Is not correctly Identified and **Adenomatous Polyposis Coli** has not even been identified. \n",
        "\n",
        "Hence we can see that our Custom Model does need a few more modifications but this can be improved by training with more data. "
      ]
    },
    {
      "cell_type": "code",
      "metadata": {
        "id": "Sy2sVkchXzMI"
      },
      "source": [
        ""
      ],
      "execution_count": null,
      "outputs": []
    },
    {
      "cell_type": "code",
      "metadata": {
        "id": "mgaMkPETXzMI"
      },
      "source": [
        ""
      ],
      "execution_count": null,
      "outputs": []
    }
  ]
}